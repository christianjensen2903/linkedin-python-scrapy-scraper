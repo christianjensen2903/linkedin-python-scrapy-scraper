{
 "cells": [
  {
   "cell_type": "code",
   "execution_count": 1,
   "metadata": {},
   "outputs": [],
   "source": [
    "import pandas as pd\n",
    "import numpy as np\n",
    "import matplotlib.pyplot as plt"
   ]
  },
  {
   "cell_type": "code",
   "execution_count": 2,
   "metadata": {},
   "outputs": [],
   "source": [
    "df = pd.read_json('posts_clean.json')"
   ]
  },
  {
   "cell_type": "code",
   "execution_count": 42,
   "metadata": {},
   "outputs": [
    {
     "data": {
      "text/html": [
       "<div>\n",
       "<style scoped>\n",
       "    .dataframe tbody tr th:only-of-type {\n",
       "        vertical-align: middle;\n",
       "    }\n",
       "\n",
       "    .dataframe tbody tr th {\n",
       "        vertical-align: top;\n",
       "    }\n",
       "\n",
       "    .dataframe thead th {\n",
       "        text-align: right;\n",
       "    }\n",
       "</style>\n",
       "<table border=\"1\" class=\"dataframe\">\n",
       "  <thead>\n",
       "    <tr style=\"text-align: right;\">\n",
       "      <th></th>\n",
       "      <th>index</th>\n",
       "      <th>name</th>\n",
       "      <th>summary</th>\n",
       "      <th>description</th>\n",
       "      <th>website</th>\n",
       "      <th>industry</th>\n",
       "      <th>headquarters</th>\n",
       "      <th>size</th>\n",
       "      <th>type</th>\n",
       "      <th>founded</th>\n",
       "      <th>...</th>\n",
       "      <th>length_category</th>\n",
       "      <th>contains_link</th>\n",
       "      <th>tokens</th>\n",
       "      <th>emojis</th>\n",
       "      <th>emoji_count</th>\n",
       "      <th>flesch_reading_ease</th>\n",
       "      <th>sentiment</th>\n",
       "      <th>sentiment_category</th>\n",
       "      <th>readability</th>\n",
       "      <th>readability_level</th>\n",
       "    </tr>\n",
       "  </thead>\n",
       "  <tbody>\n",
       "    <tr>\n",
       "      <th>0</th>\n",
       "      <td>0</td>\n",
       "      <td>Grainger</td>\n",
       "      <td>For The Ones Who Get It Done</td>\n",
       "      <td>As a leading business-to-business organization...</td>\n",
       "      <td>https://www.linkedin.com/redir/redirect?url=ht...</td>\n",
       "      <td>Retail Office Equipment</td>\n",
       "      <td>Lake Forest, Illinois</td>\n",
       "      <td>10,001+ employees</td>\n",
       "      <td>Public Company</td>\n",
       "      <td>1927.0</td>\n",
       "      <td>...</td>\n",
       "      <td>short</td>\n",
       "      <td>0</td>\n",
       "      <td>[grainger, one]</td>\n",
       "      <td>[]</td>\n",
       "      <td>0</td>\n",
       "      <td>117.67</td>\n",
       "      <td>0.000000</td>\n",
       "      <td>neutral</td>\n",
       "      <td>117.67</td>\n",
       "      <td>high</td>\n",
       "    </tr>\n",
       "    <tr>\n",
       "      <th>33716</th>\n",
       "      <td>33716</td>\n",
       "      <td>SEPHORA</td>\n",
       "      <td>Reimagine your future, with Sephora</td>\n",
       "      <td>At Sephora, we stand together and we stand for...</td>\n",
       "      <td>https://www.linkedin.com/redir/redirect?url=ht...</td>\n",
       "      <td>Retail</td>\n",
       "      <td>Neuilly sur Seine, Ile de France</td>\n",
       "      <td>10,001+ employees</td>\n",
       "      <td>Privately Held</td>\n",
       "      <td>1969.0</td>\n",
       "      <td>...</td>\n",
       "      <td>short</td>\n",
       "      <td>0</td>\n",
       "      <td>[sephora, believe, beauty, empowers, extraordi...</td>\n",
       "      <td>[]</td>\n",
       "      <td>0</td>\n",
       "      <td>57.77</td>\n",
       "      <td>0.333333</td>\n",
       "      <td>positive</td>\n",
       "      <td>57.77</td>\n",
       "      <td>medium</td>\n",
       "    </tr>\n",
       "    <tr>\n",
       "      <th>45440</th>\n",
       "      <td>45440</td>\n",
       "      <td>Boston Scientific</td>\n",
       "      <td>None</td>\n",
       "      <td>At Boston Scientific, we work collaboratively ...</td>\n",
       "      <td>https://www.linkedin.com/redir/redirect?url=ht...</td>\n",
       "      <td>Medical Equipment Manufacturing</td>\n",
       "      <td>Marlborough, MA</td>\n",
       "      <td>10,001+ employees</td>\n",
       "      <td>Public Company</td>\n",
       "      <td>NaN</td>\n",
       "      <td>...</td>\n",
       "      <td>short</td>\n",
       "      <td>0</td>\n",
       "      <td>[week]</td>\n",
       "      <td>[]</td>\n",
       "      <td>0</td>\n",
       "      <td>120.21</td>\n",
       "      <td>0.000000</td>\n",
       "      <td>neutral</td>\n",
       "      <td>120.21</td>\n",
       "      <td>high</td>\n",
       "    </tr>\n",
       "    <tr>\n",
       "      <th>45439</th>\n",
       "      <td>45439</td>\n",
       "      <td>The Coca-Cola Company</td>\n",
       "      <td>None</td>\n",
       "      <td>The Coca-Cola Company (NYSE: KO) is a total be...</td>\n",
       "      <td>https://www.linkedin.com/redir/redirect?url=ht...</td>\n",
       "      <td>Food and Beverage Services</td>\n",
       "      <td>Atlanta, GA</td>\n",
       "      <td>10,001+ employees</td>\n",
       "      <td>Public Company</td>\n",
       "      <td>NaN</td>\n",
       "      <td>...</td>\n",
       "      <td>medium</td>\n",
       "      <td>0</td>\n",
       "      <td>[water, priority, company, essential, life, be...</td>\n",
       "      <td>[]</td>\n",
       "      <td>0</td>\n",
       "      <td>54.22</td>\n",
       "      <td>0.177778</td>\n",
       "      <td>positive</td>\n",
       "      <td>54.22</td>\n",
       "      <td>medium</td>\n",
       "    </tr>\n",
       "    <tr>\n",
       "      <th>45438</th>\n",
       "      <td>45438</td>\n",
       "      <td>Brookfield Asset Management</td>\n",
       "      <td>None</td>\n",
       "      <td>Brookfield Asset Management is a leading globa...</td>\n",
       "      <td>https://www.linkedin.com/redir/redirect?url=ht...</td>\n",
       "      <td>Financial Services</td>\n",
       "      <td>Toronto, New York</td>\n",
       "      <td>1,001-5,000 employees</td>\n",
       "      <td>Public Company</td>\n",
       "      <td>NaN</td>\n",
       "      <td>...</td>\n",
       "      <td>medium</td>\n",
       "      <td>0</td>\n",
       "      <td>[pleased, announce, agreement, acquire, triton...</td>\n",
       "      <td>[]</td>\n",
       "      <td>0</td>\n",
       "      <td>49.82</td>\n",
       "      <td>0.291667</td>\n",
       "      <td>positive</td>\n",
       "      <td>49.82</td>\n",
       "      <td>medium</td>\n",
       "    </tr>\n",
       "    <tr>\n",
       "      <th>...</th>\n",
       "      <td>...</td>\n",
       "      <td>...</td>\n",
       "      <td>...</td>\n",
       "      <td>...</td>\n",
       "      <td>...</td>\n",
       "      <td>...</td>\n",
       "      <td>...</td>\n",
       "      <td>...</td>\n",
       "      <td>...</td>\n",
       "      <td>...</td>\n",
       "      <td>...</td>\n",
       "      <td>...</td>\n",
       "      <td>...</td>\n",
       "      <td>...</td>\n",
       "      <td>...</td>\n",
       "      <td>...</td>\n",
       "      <td>...</td>\n",
       "      <td>...</td>\n",
       "      <td>...</td>\n",
       "      <td>...</td>\n",
       "      <td>...</td>\n",
       "    </tr>\n",
       "    <tr>\n",
       "      <th>21804</th>\n",
       "      <td>21804</td>\n",
       "      <td>National Cybersecurity Center</td>\n",
       "      <td>Leadership | Collaboration | Education</td>\n",
       "      <td>The National Cybersecurity Center (NCC) is a 5...</td>\n",
       "      <td>https://www.linkedin.com/redir/redirect?url=ht...</td>\n",
       "      <td>Computer and Network Security</td>\n",
       "      <td>Colorado Springs, Colorado</td>\n",
       "      <td>51-200 employees</td>\n",
       "      <td>Nonprofit</td>\n",
       "      <td>NaN</td>\n",
       "      <td>...</td>\n",
       "      <td>short</td>\n",
       "      <td>0</td>\n",
       "      <td>[]</td>\n",
       "      <td>[]</td>\n",
       "      <td>0</td>\n",
       "      <td>121.22</td>\n",
       "      <td>0.000000</td>\n",
       "      <td>neutral</td>\n",
       "      <td>121.22</td>\n",
       "      <td>high</td>\n",
       "    </tr>\n",
       "    <tr>\n",
       "      <th>21805</th>\n",
       "      <td>21805</td>\n",
       "      <td>Caption Health</td>\n",
       "      <td>Detecting disease earlier with AI and ultrasound.</td>\n",
       "      <td>Our mission is to detect disease early – when ...</td>\n",
       "      <td>https://www.linkedin.com/redir/redirect?url=ht...</td>\n",
       "      <td>Hospitals and Health Care</td>\n",
       "      <td>San Mateo, California</td>\n",
       "      <td>11-50 employees</td>\n",
       "      <td>Privately Held</td>\n",
       "      <td>2013.0</td>\n",
       "      <td>...</td>\n",
       "      <td>short</td>\n",
       "      <td>0</td>\n",
       "      <td>[today, joined]</td>\n",
       "      <td>[]</td>\n",
       "      <td>0</td>\n",
       "      <td>100.24</td>\n",
       "      <td>0.000000</td>\n",
       "      <td>neutral</td>\n",
       "      <td>100.24</td>\n",
       "      <td>high</td>\n",
       "    </tr>\n",
       "    <tr>\n",
       "      <th>21806</th>\n",
       "      <td>21806</td>\n",
       "      <td>AJR Trucking</td>\n",
       "      <td>USPS Contract Carrier</td>\n",
       "      <td>AJR Trucking has developed a very different st...</td>\n",
       "      <td>https://www.linkedin.com/redir/redirect?url=ht...</td>\n",
       "      <td>Truck Transportation</td>\n",
       "      <td>Compton, California</td>\n",
       "      <td>201-500 employees</td>\n",
       "      <td>Privately Held</td>\n",
       "      <td>NaN</td>\n",
       "      <td>...</td>\n",
       "      <td>long</td>\n",
       "      <td>0</td>\n",
       "      <td>[trucking, attended, american, trucking, assoc...</td>\n",
       "      <td>[🤲, 🔹, 🔹, 🔹, 🔹, 🔹, 🔹, 🔹, 🔹, 🔹, 🔹, 🔹, 🔹, 🤝]</td>\n",
       "      <td>14</td>\n",
       "      <td>-21.24</td>\n",
       "      <td>0.152315</td>\n",
       "      <td>positive</td>\n",
       "      <td>-21.24</td>\n",
       "      <td>low</td>\n",
       "    </tr>\n",
       "    <tr>\n",
       "      <th>21807</th>\n",
       "      <td>21807</td>\n",
       "      <td>Javen Technologies, Inc.</td>\n",
       "      <td>None</td>\n",
       "      <td>Javen Technologies is a Bloomington based Soft...</td>\n",
       "      <td>https://www.linkedin.com/redir/redirect?url=ht...</td>\n",
       "      <td>IT Services and IT Consulting</td>\n",
       "      <td>Bloomington, MN</td>\n",
       "      <td>201-500 employees</td>\n",
       "      <td>Privately Held</td>\n",
       "      <td>2003.0</td>\n",
       "      <td>...</td>\n",
       "      <td>long</td>\n",
       "      <td>0</td>\n",
       "      <td>[one, direct, clients, looking, google, cloud,...</td>\n",
       "      <td>[]</td>\n",
       "      <td>0</td>\n",
       "      <td>64.81</td>\n",
       "      <td>0.047500</td>\n",
       "      <td>positive</td>\n",
       "      <td>64.81</td>\n",
       "      <td>high</td>\n",
       "    </tr>\n",
       "    <tr>\n",
       "      <th>23374</th>\n",
       "      <td>23374</td>\n",
       "      <td>EdPlus at Arizona State University</td>\n",
       "      <td>EdPlus is a central enterprise unit for ASU fo...</td>\n",
       "      <td>EdPlus is a focal point for blending technolog...</td>\n",
       "      <td>https://www.linkedin.com/redir/redirect?url=ht...</td>\n",
       "      <td>Higher Education</td>\n",
       "      <td>Scottsdale, AZ</td>\n",
       "      <td>501-1,000 employees</td>\n",
       "      <td>Educational</td>\n",
       "      <td>2010.0</td>\n",
       "      <td>...</td>\n",
       "      <td>short</td>\n",
       "      <td>0</td>\n",
       "      <td>[showcasing]</td>\n",
       "      <td>[]</td>\n",
       "      <td>0</td>\n",
       "      <td>59.97</td>\n",
       "      <td>0.000000</td>\n",
       "      <td>neutral</td>\n",
       "      <td>59.97</td>\n",
       "      <td>medium</td>\n",
       "    </tr>\n",
       "  </tbody>\n",
       "</table>\n",
       "<p>68333 rows × 29 columns</p>\n",
       "</div>"
      ],
      "text/plain": [
       "       index                                name   \n",
       "0          0                            Grainger  \\\n",
       "33716  33716                             SEPHORA   \n",
       "45440  45440                   Boston Scientific   \n",
       "45439  45439               The Coca-Cola Company   \n",
       "45438  45438         Brookfield Asset Management   \n",
       "...      ...                                 ...   \n",
       "21804  21804       National Cybersecurity Center   \n",
       "21805  21805                      Caption Health   \n",
       "21806  21806                        AJR Trucking   \n",
       "21807  21807            Javen Technologies, Inc.   \n",
       "23374  23374  EdPlus at Arizona State University   \n",
       "\n",
       "                                                 summary   \n",
       "0                           For The Ones Who Get It Done  \\\n",
       "33716                Reimagine your future, with Sephora   \n",
       "45440                                               None   \n",
       "45439                                               None   \n",
       "45438                                               None   \n",
       "...                                                  ...   \n",
       "21804             Leadership | Collaboration | Education   \n",
       "21805  Detecting disease earlier with AI and ultrasound.   \n",
       "21806                              USPS Contract Carrier   \n",
       "21807                                               None   \n",
       "23374  EdPlus is a central enterprise unit for ASU fo...   \n",
       "\n",
       "                                             description   \n",
       "0      As a leading business-to-business organization...  \\\n",
       "33716  At Sephora, we stand together and we stand for...   \n",
       "45440  At Boston Scientific, we work collaboratively ...   \n",
       "45439  The Coca-Cola Company (NYSE: KO) is a total be...   \n",
       "45438  Brookfield Asset Management is a leading globa...   \n",
       "...                                                  ...   \n",
       "21804  The National Cybersecurity Center (NCC) is a 5...   \n",
       "21805  Our mission is to detect disease early – when ...   \n",
       "21806  AJR Trucking has developed a very different st...   \n",
       "21807  Javen Technologies is a Bloomington based Soft...   \n",
       "23374  EdPlus is a focal point for blending technolog...   \n",
       "\n",
       "                                                 website   \n",
       "0      https://www.linkedin.com/redir/redirect?url=ht...  \\\n",
       "33716  https://www.linkedin.com/redir/redirect?url=ht...   \n",
       "45440  https://www.linkedin.com/redir/redirect?url=ht...   \n",
       "45439  https://www.linkedin.com/redir/redirect?url=ht...   \n",
       "45438  https://www.linkedin.com/redir/redirect?url=ht...   \n",
       "...                                                  ...   \n",
       "21804  https://www.linkedin.com/redir/redirect?url=ht...   \n",
       "21805  https://www.linkedin.com/redir/redirect?url=ht...   \n",
       "21806  https://www.linkedin.com/redir/redirect?url=ht...   \n",
       "21807  https://www.linkedin.com/redir/redirect?url=ht...   \n",
       "23374  https://www.linkedin.com/redir/redirect?url=ht...   \n",
       "\n",
       "                              industry                      headquarters   \n",
       "0              Retail Office Equipment             Lake Forest, Illinois  \\\n",
       "33716                           Retail  Neuilly sur Seine, Ile de France   \n",
       "45440  Medical Equipment Manufacturing                   Marlborough, MA   \n",
       "45439       Food and Beverage Services                       Atlanta, GA   \n",
       "45438               Financial Services                 Toronto, New York   \n",
       "...                                ...                               ...   \n",
       "21804    Computer and Network Security        Colorado Springs, Colorado   \n",
       "21805        Hospitals and Health Care             San Mateo, California   \n",
       "21806             Truck Transportation               Compton, California   \n",
       "21807    IT Services and IT Consulting                   Bloomington, MN   \n",
       "23374                 Higher Education                    Scottsdale, AZ   \n",
       "\n",
       "                        size            type  founded  ...  length_category   \n",
       "0          10,001+ employees  Public Company   1927.0  ...            short  \\\n",
       "33716      10,001+ employees  Privately Held   1969.0  ...            short   \n",
       "45440      10,001+ employees  Public Company      NaN  ...            short   \n",
       "45439      10,001+ employees  Public Company      NaN  ...           medium   \n",
       "45438  1,001-5,000 employees  Public Company      NaN  ...           medium   \n",
       "...                      ...             ...      ...  ...              ...   \n",
       "21804       51-200 employees       Nonprofit      NaN  ...            short   \n",
       "21805        11-50 employees  Privately Held   2013.0  ...            short   \n",
       "21806      201-500 employees  Privately Held      NaN  ...             long   \n",
       "21807      201-500 employees  Privately Held   2003.0  ...             long   \n",
       "23374    501-1,000 employees     Educational   2010.0  ...            short   \n",
       "\n",
       "      contains_link                                             tokens   \n",
       "0                 0                                    [grainger, one]  \\\n",
       "33716             0  [sephora, believe, beauty, empowers, extraordi...   \n",
       "45440             0                                             [week]   \n",
       "45439             0  [water, priority, company, essential, life, be...   \n",
       "45438             0  [pleased, announce, agreement, acquire, triton...   \n",
       "...             ...                                                ...   \n",
       "21804             0                                                 []   \n",
       "21805             0                                    [today, joined]   \n",
       "21806             0  [trucking, attended, american, trucking, assoc...   \n",
       "21807             0  [one, direct, clients, looking, google, cloud,...   \n",
       "23374             0                                       [showcasing]   \n",
       "\n",
       "                                           emojis  emoji_count   \n",
       "0                                              []            0  \\\n",
       "33716                                          []            0   \n",
       "45440                                          []            0   \n",
       "45439                                          []            0   \n",
       "45438                                          []            0   \n",
       "...                                           ...          ...   \n",
       "21804                                          []            0   \n",
       "21805                                          []            0   \n",
       "21806  [🤲, 🔹, 🔹, 🔹, 🔹, 🔹, 🔹, 🔹, 🔹, 🔹, 🔹, 🔹, 🔹, 🤝]           14   \n",
       "21807                                          []            0   \n",
       "23374                                          []            0   \n",
       "\n",
       "      flesch_reading_ease  sentiment  sentiment_category  readability   \n",
       "0                  117.67   0.000000             neutral       117.67  \\\n",
       "33716               57.77   0.333333            positive        57.77   \n",
       "45440              120.21   0.000000             neutral       120.21   \n",
       "45439               54.22   0.177778            positive        54.22   \n",
       "45438               49.82   0.291667            positive        49.82   \n",
       "...                   ...        ...                 ...          ...   \n",
       "21804              121.22   0.000000             neutral       121.22   \n",
       "21805              100.24   0.000000             neutral       100.24   \n",
       "21806              -21.24   0.152315            positive       -21.24   \n",
       "21807               64.81   0.047500            positive        64.81   \n",
       "23374               59.97   0.000000             neutral        59.97   \n",
       "\n",
       "      readability_level  \n",
       "0                  high  \n",
       "33716            medium  \n",
       "45440              high  \n",
       "45439            medium  \n",
       "45438            medium  \n",
       "...                 ...  \n",
       "21804              high  \n",
       "21805              high  \n",
       "21806               low  \n",
       "21807              high  \n",
       "23374            medium  \n",
       "\n",
       "[68333 rows x 29 columns]"
      ]
     },
     "execution_count": 42,
     "metadata": {},
     "output_type": "execute_result"
    }
   ],
   "source": [
    "df"
   ]
  },
  {
   "cell_type": "code",
   "execution_count": 12,
   "metadata": {},
   "outputs": [
    {
     "name": "stderr",
     "output_type": "stream",
     "text": [
      "/var/folders/s3/51rzg94s5318dvd1cr9t6cq40000gn/T/ipykernel_4641/2807642275.py:3: SettingWithCopyWarning: \n",
      "A value is trying to be set on a copy of a slice from a DataFrame.\n",
      "Try using .loc[row_indexer,col_indexer] = value instead\n",
      "\n",
      "See the caveats in the documentation: https://pandas.pydata.org/pandas-docs/stable/user_guide/indexing.html#returning-a-view-versus-a-copy\n",
      "  df['likes'] = df['likes'].astype(int)\n"
     ]
    }
   ],
   "source": [
    "df['likes'] = pd.to_numeric(df['likes'], errors='coerce')\n",
    "df = df.dropna(subset=['likes'])\n",
    "df['likes'] = df['likes'].astype(int)"
   ]
  },
  {
   "cell_type": "code",
   "execution_count": 13,
   "metadata": {},
   "outputs": [
    {
     "data": {
      "text/plain": [
       "content_type\n",
       "link     42.172931\n",
       "text     40.467470\n",
       "video    69.230598\n",
       "Name: likes, dtype: float64"
      ]
     },
     "execution_count": 13,
     "metadata": {},
     "output_type": "execute_result"
    }
   ],
   "source": [
    "df.groupby('content_type')['likes'].mean()"
   ]
  },
  {
   "cell_type": "code",
   "execution_count": 19,
   "metadata": {},
   "outputs": [
    {
     "name": "stderr",
     "output_type": "stream",
     "text": [
      "/var/folders/s3/51rzg94s5318dvd1cr9t6cq40000gn/T/ipykernel_4641/2139963505.py:1: SettingWithCopyWarning: \n",
      "A value is trying to be set on a copy of a slice from a DataFrame.\n",
      "Try using .loc[row_indexer,col_indexer] = value instead\n",
      "\n",
      "See the caveats in the documentation: https://pandas.pydata.org/pandas-docs/stable/user_guide/indexing.html#returning-a-view-versus-a-copy\n",
      "  df['text_length'] = df['text'].str.len()\n",
      "/var/folders/s3/51rzg94s5318dvd1cr9t6cq40000gn/T/ipykernel_4641/2139963505.py:2: SettingWithCopyWarning: \n",
      "A value is trying to be set on a copy of a slice from a DataFrame.\n",
      "Try using .loc[row_indexer,col_indexer] = value instead\n",
      "\n",
      "See the caveats in the documentation: https://pandas.pydata.org/pandas-docs/stable/user_guide/indexing.html#returning-a-view-versus-a-copy\n",
      "  df['length_category'] = pd.cut(df['text_length'], bins=[0, 200, 400, float('inf')], labels=['short', 'medium', 'long'])\n"
     ]
    },
    {
     "data": {
      "text/plain": [
       "length_category\n",
       "short     42.092474\n",
       "medium    44.351944\n",
       "long      50.068407\n",
       "Name: likes, dtype: float64"
      ]
     },
     "execution_count": 19,
     "metadata": {},
     "output_type": "execute_result"
    }
   ],
   "source": [
    "df['text_length'] = df['text'].str.len()\n",
    "df['length_category'] = pd.cut(df['text_length'], bins=[0, 200, 400, float('inf')], labels=['short', 'medium', 'long'])\n",
    "df.groupby('length_category')['likes'].mean()"
   ]
  },
  {
   "cell_type": "code",
   "execution_count": 24,
   "metadata": {},
   "outputs": [
    {
     "name": "stderr",
     "output_type": "stream",
     "text": [
      "/var/folders/s3/51rzg94s5318dvd1cr9t6cq40000gn/T/ipykernel_4641/1122004876.py:2: SettingWithCopyWarning: \n",
      "A value is trying to be set on a copy of a slice from a DataFrame.\n",
      "Try using .loc[row_indexer,col_indexer] = value instead\n",
      "\n",
      "See the caveats in the documentation: https://pandas.pydata.org/pandas-docs/stable/user_guide/indexing.html#returning-a-view-versus-a-copy\n",
      "  df['contains_link'] = df['text'].apply(lambda x: 1 if re.search(r'http\\S+', x) else 0)\n"
     ]
    },
    {
     "data": {
      "text/plain": [
       "contains_link\n",
       "0    44.025062\n",
       "1    35.164416\n",
       "Name: likes, dtype: float64"
      ]
     },
     "execution_count": 24,
     "metadata": {},
     "output_type": "execute_result"
    }
   ],
   "source": [
    "import re\n",
    "df['contains_link'] = df['text'].apply(lambda x: 1 if re.search(r'http\\S+', x) else 0)\n",
    "df.groupby('contains_link')['likes'].mean()"
   ]
  },
  {
   "cell_type": "code",
   "execution_count": 41,
   "metadata": {},
   "outputs": [
    {
     "name": "stderr",
     "output_type": "stream",
     "text": [
      "/var/folders/s3/51rzg94s5318dvd1cr9t6cq40000gn/T/ipykernel_4641/83393393.py:12: SettingWithCopyWarning: \n",
      "A value is trying to be set on a copy of a slice from a DataFrame.\n",
      "Try using .loc[row_indexer,col_indexer] = value instead\n",
      "\n",
      "See the caveats in the documentation: https://pandas.pydata.org/pandas-docs/stable/user_guide/indexing.html#returning-a-view-versus-a-copy\n",
      "  df['readability'] = df['text'].apply(textstat.flesch_reading_ease)\n",
      "/var/folders/s3/51rzg94s5318dvd1cr9t6cq40000gn/T/ipykernel_4641/83393393.py:13: SettingWithCopyWarning: \n",
      "A value is trying to be set on a copy of a slice from a DataFrame.\n",
      "Try using .loc[row_indexer,col_indexer] = value instead\n",
      "\n",
      "See the caveats in the documentation: https://pandas.pydata.org/pandas-docs/stable/user_guide/indexing.html#returning-a-view-versus-a-copy\n",
      "  df['readability_level'] = df['readability'].apply(readability_level)\n"
     ]
    },
    {
     "data": {
      "text/plain": [
       "readability_level\n",
       "high      40.917918\n",
       "low       45.721382\n",
       "medium    48.140539\n",
       "Name: likes, dtype: float64"
      ]
     },
     "execution_count": 41,
     "metadata": {},
     "output_type": "execute_result"
    }
   ],
   "source": [
    "import textstat\n",
    "\n",
    "def readability_level(score):\n",
    "    if score >= 60:\n",
    "        return \"high\"\n",
    "    elif score >= 30:\n",
    "        return \"medium\"\n",
    "    else:\n",
    "        return \"low\"\n",
    "\n",
    "# Assuming your data frame is called df\n",
    "df['readability'] = df['text'].apply(textstat.flesch_reading_ease)\n",
    "df['readability_level'] = df['readability'].apply(readability_level)\n",
    "\n",
    "df.groupby('readability_level')['likes'].mean()"
   ]
  },
  {
   "cell_type": "code",
   "execution_count": 39,
   "metadata": {},
   "outputs": [
    {
     "name": "stderr",
     "output_type": "stream",
     "text": [
      "/var/folders/s3/51rzg94s5318dvd1cr9t6cq40000gn/T/ipykernel_4641/2257306382.py:11: SettingWithCopyWarning: \n",
      "A value is trying to be set on a copy of a slice from a DataFrame.\n",
      "Try using .loc[row_indexer,col_indexer] = value instead\n",
      "\n",
      "See the caveats in the documentation: https://pandas.pydata.org/pandas-docs/stable/user_guide/indexing.html#returning-a-view-versus-a-copy\n",
      "  df['sentiment'] = df['text'].apply(lambda x: TextBlob(x).sentiment.polarity)\n",
      "/var/folders/s3/51rzg94s5318dvd1cr9t6cq40000gn/T/ipykernel_4641/2257306382.py:12: SettingWithCopyWarning: \n",
      "A value is trying to be set on a copy of a slice from a DataFrame.\n",
      "Try using .loc[row_indexer,col_indexer] = value instead\n",
      "\n",
      "See the caveats in the documentation: https://pandas.pydata.org/pandas-docs/stable/user_guide/indexing.html#returning-a-view-versus-a-copy\n",
      "  df['sentiment_category'] = df['sentiment'].apply(sentiment_category)\n"
     ]
    },
    {
     "data": {
      "text/plain": [
       "sentiment_category\n",
       "negative    40.922125\n",
       "neutral     41.550640\n",
       "positive    45.000905\n",
       "Name: likes, dtype: float64"
      ]
     },
     "execution_count": 39,
     "metadata": {},
     "output_type": "execute_result"
    }
   ],
   "source": [
    "from textblob import TextBlob\n",
    "\n",
    "def sentiment_category(sentiment_score):\n",
    "    if sentiment_score > 0:\n",
    "        return \"positive\"\n",
    "    elif sentiment_score < 0:\n",
    "        return \"negative\"\n",
    "    else:\n",
    "        return \"neutral\"\n",
    "\n",
    "df['sentiment'] = df['text'].apply(lambda x: TextBlob(x).sentiment.polarity)\n",
    "df['sentiment_category'] = df['sentiment'].apply(sentiment_category)\n",
    "\n",
    "df.groupby('sentiment_category')['likes'].mean()"
   ]
  },
  {
   "cell_type": "code",
   "execution_count": 51,
   "metadata": {},
   "outputs": [
    {
     "name": "stderr",
     "output_type": "stream",
     "text": [
      "/var/folders/s3/51rzg94s5318dvd1cr9t6cq40000gn/T/ipykernel_4641/2549476386.py:2: SettingWithCopyWarning: \n",
      "A value is trying to be set on a copy of a slice from a DataFrame.\n",
      "Try using .loc[row_indexer,col_indexer] = value instead\n",
      "\n",
      "See the caveats in the documentation: https://pandas.pydata.org/pandas-docs/stable/user_guide/indexing.html#returning-a-view-versus-a-copy\n",
      "  df['num_hashtags'] = df['text'].apply(lambda x: len(re.findall(r'#\\w+', x)))\n",
      "/var/folders/s3/51rzg94s5318dvd1cr9t6cq40000gn/T/ipykernel_4641/2549476386.py:5: SettingWithCopyWarning: \n",
      "A value is trying to be set on a copy of a slice from a DataFrame.\n",
      "Try using .loc[row_indexer,col_indexer] = value instead\n",
      "\n",
      "See the caveats in the documentation: https://pandas.pydata.org/pandas-docs/stable/user_guide/indexing.html#returning-a-view-versus-a-copy\n",
      "  df['num_mentions'] = df['text'].apply(lambda x: len(re.findall(r'@\\w+', x)))\n"
     ]
    }
   ],
   "source": [
    "# Find the number of hashtags in each post\n",
    "df['num_hashtags'] = df['text'].apply(lambda x: len(re.findall(r'#\\w+', x)))\n",
    "\n",
    "# Find the number of mentions in each post\n",
    "df['num_mentions'] = df['text'].apply(lambda x: len(re.findall(r'@\\w+', x)))"
   ]
  },
  {
   "cell_type": "code",
   "execution_count": 54,
   "metadata": {},
   "outputs": [
    {
     "data": {
      "text/plain": [
       "num_hashtags\n",
       "0     43.838367\n",
       "1     47.059925\n",
       "2     53.892857\n",
       "3     21.636364\n",
       "4     49.200000\n",
       "5     24.666667\n",
       "6     11.000000\n",
       "8     32.000000\n",
       "9     37.500000\n",
       "17     9.000000\n",
       "Name: likes, dtype: float64"
      ]
     },
     "execution_count": 54,
     "metadata": {},
     "output_type": "execute_result"
    }
   ],
   "source": [
    "df.groupby('num_hashtags')['likes'].mean()"
   ]
  },
  {
   "cell_type": "code",
   "execution_count": 55,
   "metadata": {},
   "outputs": [
    {
     "data": {
      "text/plain": [
       "num_mentions\n",
       "0     43.914939\n",
       "1     35.840970\n",
       "2     38.518519\n",
       "3     45.181818\n",
       "4     25.222222\n",
       "6     20.400000\n",
       "9     14.000000\n",
       "14     2.000000\n",
       "Name: likes, dtype: float64"
      ]
     },
     "execution_count": 55,
     "metadata": {},
     "output_type": "execute_result"
    }
   ],
   "source": [
    "df.groupby('num_mentions')['likes'].mean()"
   ]
  },
  {
   "cell_type": "code",
   "execution_count": 52,
   "metadata": {},
   "outputs": [
    {
     "data": {
      "text/plain": [
       "0.010434197239986537"
      ]
     },
     "execution_count": 52,
     "metadata": {},
     "output_type": "execute_result"
    }
   ],
   "source": [
    "df['num_hashtags'].mean()"
   ]
  },
  {
   "cell_type": "code",
   "execution_count": 53,
   "metadata": {},
   "outputs": [
    {
     "data": {
      "text/plain": [
       "0.008795164854462705"
      ]
     },
     "execution_count": 53,
     "metadata": {},
     "output_type": "execute_result"
    }
   ],
   "source": [
    "df['num_mentions'].mean()"
   ]
  },
  {
   "cell_type": "code",
   "execution_count": 44,
   "metadata": {},
   "outputs": [
    {
     "data": {
      "text/plain": [
       "43.861809081995524"
      ]
     },
     "execution_count": 44,
     "metadata": {},
     "output_type": "execute_result"
    }
   ],
   "source": [
    "# Find average like count\n",
    "df['likes'].mean()"
   ]
  },
  {
   "cell_type": "code",
   "execution_count": 45,
   "metadata": {},
   "outputs": [
    {
     "data": {
      "text/plain": [
       "224.2519426924034"
      ]
     },
     "execution_count": 45,
     "metadata": {},
     "output_type": "execute_result"
    }
   ],
   "source": [
    "# Find average text length\n",
    "df['text_length'].mean()"
   ]
  },
  {
   "cell_type": "code",
   "execution_count": 46,
   "metadata": {},
   "outputs": [
    {
     "data": {
      "text/plain": [
       "0.3243674359387119"
      ]
     },
     "execution_count": 46,
     "metadata": {},
     "output_type": "execute_result"
    }
   ],
   "source": [
    "# Average amount of emojis\n",
    "df['emoji_count'].mean()"
   ]
  },
  {
   "cell_type": "code",
   "execution_count": 47,
   "metadata": {},
   "outputs": [
    {
     "name": "stderr",
     "output_type": "stream",
     "text": [
      "/var/folders/s3/51rzg94s5318dvd1cr9t6cq40000gn/T/ipykernel_4641/2159575574.py:2: SettingWithCopyWarning: \n",
      "A value is trying to be set on a copy of a slice from a DataFrame.\n",
      "Try using .loc[row_indexer,col_indexer] = value instead\n",
      "\n",
      "See the caveats in the documentation: https://pandas.pydata.org/pandas-docs/stable/user_guide/indexing.html#returning-a-view-versus-a-copy\n",
      "  df['engagement_rate'] = df['likes'] / df['followers']\n"
     ]
    },
    {
     "data": {
      "text/plain": [
       "0.00522106538133319"
      ]
     },
     "execution_count": 47,
     "metadata": {},
     "output_type": "execute_result"
    }
   ],
   "source": [
    "# Calculate average engagement rate (likes / followers)\n",
    "df['engagement_rate'] = df['likes'] / df['followers']\n",
    "\n",
    "# Average engagement rate\n",
    "df['engagement_rate'].mean()"
   ]
  },
  {
   "cell_type": "code",
   "execution_count": 48,
   "metadata": {},
   "outputs": [
    {
     "data": {
      "text/plain": [
       "0.2301968735025428"
      ]
     },
     "execution_count": 48,
     "metadata": {},
     "output_type": "execute_result"
    }
   ],
   "source": [
    "# Average sentiment\n",
    "df['sentiment'].mean()"
   ]
  },
  {
   "cell_type": "code",
   "execution_count": 57,
   "metadata": {},
   "outputs": [],
   "source": [
    "# Companies that are founded after 2021\n",
    "explo_df = df[df['founded'] > 2021]\n"
   ]
  },
  {
   "cell_type": "code",
   "execution_count": 59,
   "metadata": {},
   "outputs": [
    {
     "data": {
      "image/png": "[encoded data removed]",
      "text/plain": [
       "<Figure size 1000x600 with 1 Axes>"
      ]
     },
     "metadata": {},
     "output_type": "display_data"
    }
   ],
   "source": [
    "# bar chart of the length of the posts\n",
    "plt.figure(figsize=(10, 6))\n",
    "plt.hist(explo_df['text_length'], bins=50)\n",
    "plt.xlabel('Length of posts')\n",
    "plt.ylabel('Number of posts')\n",
    "plt.title('Length of posts')\n",
    "plt.show()"
   ]
  }
 ],
 "metadata": {
  "kernelspec": {
   "display_name": "Python 3",
   "language": "python",
   "name": "python3"
  },
  "language_info": {
   "codemirror_mode": {
    "name": "ipython",
    "version": 3
   },
   "file_extension": ".py",
   "mimetype": "text/x-python",
   "name": "python",
   "nbconvert_exporter": "python",
   "pygments_lexer": "ipython3",
   "version": "3.10.10"
  },
  "orig_nbformat": 4
 },
 "nbformat": 4,
 "nbformat_minor": 2
}
